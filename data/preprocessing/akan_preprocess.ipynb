{
 "cells": [
  {
   "cell_type": "code",
   "execution_count": 3,
   "id": "ee736a03",
   "metadata": {},
   "outputs": [],
   "source": [
    "from bs4 import BeautifulSoup\n",
    "import json"
   ]
  },
  {
   "cell_type": "code",
   "execution_count": null,
   "id": "e3ef3d00",
   "metadata": {},
   "outputs": [],
   "source": [
    "with open(\"/content/Akan_release1.xml\", \"r\", encoding=\"utf-8\") as f:\n",
    "  soup = BeautifulSoup(f, \"xml\")\n",
    "\n",
    "akan_data ={'lang': 'akan', 'data': []}\n",
    "\n",
    "data =[]\n",
    "\n",
    "for p in soup.find_all(\"p\"):\n",
    "  text = p.get_text(strip=True)\n",
    "  if text:\n",
    "    data.append(text.lower())\n",
    "\n",
    "for original_tag in soup.find_all(\"original\"):\n",
    "  text = original_tag.get_text(strip=True)\n",
    "  if text:\n",
    "    data.append(text.lower())\n",
    "\n",
    "akan_data['data'].extend(data)\n",
    "\n",
    "with open(\"twi_corpus.json\", \"w\", encoding=\"utf-8\") as corpus:\n",
    "  json.dump(akan_data, corpus, ensure_ascii=False, indent=2)\n"
   ]
  }
 ],
 "metadata": {
  "kernelspec": {
   "display_name": "Python 3",
   "language": "python",
   "name": "python3"
  },
  "language_info": {
   "codemirror_mode": {
    "name": "ipython",
    "version": 3
   },
   "file_extension": ".py",
   "mimetype": "text/x-python",
   "name": "python",
   "nbconvert_exporter": "python",
   "pygments_lexer": "ipython3",
   "version": "3.13.3"
  }
 },
 "nbformat": 4,
 "nbformat_minor": 5
}
