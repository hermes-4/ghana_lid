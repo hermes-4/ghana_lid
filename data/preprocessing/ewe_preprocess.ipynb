{
 "cells": [
  {
   "cell_type": "code",
   "execution_count": null,
   "id": "04b947c9",
   "metadata": {},
   "outputs": [],
   "source": [
    "import json\n",
    "import re\n",
    "import unicodedata\n",
    "\n",
    "# Load your exported JSON file\n",
    "with open(\"/content/ewe_data/eweenglishsentence(3).json\", \"r\", encoding=\"utf-8\") as f:\n",
    "    raw = json.load(f)\n",
    "\n",
    "# Navigate to table data\n",
    "records = []\n",
    "for block in raw:\n",
    "    if block.get(\"type\") == \"table\" and block.get(\"name\") == \"eweenglishsentence\":\n",
    "        records = block[\"data\"]\n",
    "        break"
   ]
  },
  {
   "cell_type": "code",
   "execution_count": null,
   "id": "c914e1bb",
   "metadata": {},
   "outputs": [],
   "source": [
    "# Cleaning function\n",
    "\n",
    "def clean_text(line):\n",
    "    line = unicodedata.normalize(\"NFC\", str(line))\n",
    "    line = re.sub(r\"\\d+\", \"\", line)                # remove digits\n",
    "    line = re.sub(r\"[^\\w\\sɔɛŋɣʋƒɖʒŋ́̀̃]\", \"\", line) # keep Ewe characters\n",
    "    line = re.sub(r\"\\s{2,}\", \" \", line)            # collapse multiple spaces\n",
    "    return line.strip().lower()\n"
   ]
  },
  {
   "cell_type": "code",
   "execution_count": null,
   "id": "c91ac70d",
   "metadata": {},
   "outputs": [],
   "source": [
    "# Extract and clean Ewe & English sentences\n",
    "cleaned_data = []\n",
    "for rec in records:\n",
    "    ewe = clean_text(rec.get(\"ee_sentence\", \"\"))\n",
    "    if ewe:\n",
    "        cleaned_data.append(ewe)\n"
   ]
  },
  {
   "cell_type": "code",
   "execution_count": null,
   "id": "1462a228",
   "metadata": {},
   "outputs": [],
   "source": [
    "# Save to JSON\n",
    "with open(\"ewe_corpus.json\", \"w\", encoding=\"utf-8\") as f:\n",
    "    json.dump({\"lang\": \"ewe\", \"data\": cleaned_data}, f, ensure_ascii=False, indent=2)\n",
    "\n",
    "print(\"Preprocessing complete\")\n",
    "print(cleaned_data[:3])  # show sample"
   ]
  }
 ],
 "metadata": {
  "language_info": {
   "name": "python"
  }
 },
 "nbformat": 4,
 "nbformat_minor": 5
}
