{
 "cells": [
  {
   "cell_type": "code",
   "execution_count": null,
   "id": "89ddc5f6",
   "metadata": {},
   "outputs": [],
   "source": [
    "import re\n",
    "import json\n",
    "sentences = re.split(r'(?<=[.!?\\n])\\s+|\\n+', rw)\n",
    "\n",
    "gac = []\n",
    "for sent in sentences:\n",
    "  clean_sent = re.sub(r'\\d+', '', sent)\n",
    "  clean_sent = clean_sent.lower().strip()\n",
    "  clean_sent = re.sub(r'[\\\"“”‘’]', '', clean_sent)\n",
    "  if clean_sent:\n",
    "      gac.append(clean_sent)\n",
    "\n",
    "\n",
    "corp = {\"lang\": \"ga\", \"data\": gac}\n",
    "with open(\"ga_corpus.json\", \"w\", encoding=\"utf-8\") as f:\n",
    "  json.dump(corp, f, ensure_ascii=False, indent=2)\n",
    "\n"
   ]
  }
 ],
 "metadata": {
  "language_info": {
   "name": "python"
  }
 },
 "nbformat": 4,
 "nbformat_minor": 5
}
