{
 "cells": [
  {
   "cell_type": "markdown",
   "id": "2ed02103",
   "metadata": {},
   "source": [
    "# Language Identification For Low-Resource Ghanaian Languages (Akan, Ewe, Ga and Dgbani)"
   ]
  },
  {
   "cell_type": "markdown",
   "id": "399ac7a2",
   "metadata": {},
   "source": [
    "## 📝 Introduction & Objective\n",
    "\n",
    "This notebook explores Language Identification (LID) for Ghanaian languages (Akan, Dagbani, Ewe, Ga).\n",
    "We preprocess, train, and evaluate models to detect the language of a given text."
   ]
  },
  {
   "cell_type": "markdown",
   "id": "4fdf000e",
   "metadata": {},
   "source": [
    "## 📊 Exploratory Data Analysis (EDA)\n",
    "- **Loading dataset**\n",
    "- **Distribution of samples per language**\n",
    "- **Sample texts for inspection**\n",
    "- **Dataset info and shape**"
   ]
  },
  {
   "cell_type": "code",
   "execution_count": 1,
   "id": "0d03898b",
   "metadata": {},
   "outputs": [],
   "source": [
    "import json\n",
    "import pandas as pd\n",
    "\n",
    "def load_corpus(file_path, lang):\n",
    "    with open(file_path, \"r\", encoding=\"utf-8\") as f:\n",
    "        data = json.load(f)\n",
    "    lines = data.get(\"data\", [])\n",
    "    return pd.DataFrame({\"text\": lines, \"lang\": lang})\n",
    "\n",
    "dagbani_df = load_corpus(\"data/processed/dagbani_corpus.json\", \"dagbani\")\n",
    "ewe_df = load_corpus(\"data/processed/ewe_corpus.json\", \"ewe\")\n",
    "ga_df = load_corpus(\"data/processed/ga_corpus.json\", \"ga\")\n",
    "akan_df = load_corpus(\"data/processed/twi_corpus.json\", \"akan\")\n",
    "\n",
    "\n",
    "df = pd.concat([dagbani_df, ewe_df, ga_df, akan_df]).reset_index(drop=True)\n",
    "\n"
   ]
  },
  {
   "cell_type": "code",
   "execution_count": 2,
   "id": "12a05c49",
   "metadata": {},
   "outputs": [
    {
     "name": "stdout",
     "output_type": "stream",
     "text": [
      "Dataset Info:\n",
      "<class 'pandas.core.frame.DataFrame'>\n",
      "RangeIndex: 1993 entries, 0 to 1992\n",
      "Data columns (total 2 columns):\n",
      " #   Column  Non-Null Count  Dtype \n",
      "---  ------  --------------  ----- \n",
      " 0   text    1993 non-null   object\n",
      " 1   lang    1993 non-null   object\n",
      "dtypes: object(2)\n",
      "memory usage: 31.3+ KB\n",
      "None\n",
      "\n",
      "Last few rows:\n",
      "                                                text  lang\n",
      "1988                               kofi piaa   afua.  akan\n",
      "1989                                         awia bɔ  akan\n",
      "1990            ndanwɔtwe nan, ndafua aduonu nwɔtwe;  akan\n",
      "1991  bere ahorow dumbienu a εka bɔ mu yε afe baako;  akan\n",
      "1992                  sε ebia ɔpεpɔn, ogyefuo ne ade  akan\n",
      "\n",
      "Class distribution:\n",
      "lang\n",
      "akan       924\n",
      "ewe        540\n",
      "ga         303\n",
      "dagbani    226\n",
      "Name: count, dtype: int64\n",
      "\n",
      "Sample texts:\n",
      "\n",
      "DAGBANI sample:\n",
      "['ti ni yɛn di shɛli n mali tiyɛla ka ti daŋ mali suhupiɛlli gba yɛla kul be lati suhu ni', 'kpahimmi dini yŋli li shŋm', 'aizaia']\n",
      "\n",
      "EWE sample:\n",
      "['azã adre laaleke eƒe didime le', 'yawoɖaviwo ɖenabla wɔna nu kaba kaba kple tamesusu ko be yewo ma ɖoto amebubu o', 'boas gblɔ na rut be wòagamlɔ anyi aɖi ɖe eme va se ɖe fɔŋli ne wòafɔ adzo be ame aɖeke nagakpɔe o']\n",
      "\n",
      "GA sample:\n",
      "['jalɔ nuɔ he ehãa eshĩa kooloo tete; shi mɔ fɔŋ musuŋtsɔlɛ tete lɛ, yiwaa ni.', 'jalɔi alilɛi wieɔ nilee wiemɔi; shi kutumpɔo lilɛi lɛ, aaafo ashɛ afɔ̃.', 'amale odasefonyo yeŋ ehe; ni amalelɔ he ejeŋ sane mli.']\n",
      "\n",
      "AKAN sample:\n",
      "['abain ɛyɛ nyuɔma a ɛbe bua nsrahwɛ ewɔ ɔmain mu.', 'yaa rekasa', 'abaayewa yi a ɔbɛkyeaa me kɔ']\n"
     ]
    }
   ],
   "source": [
    "print(\"Dataset Info:\")\n",
    "print(df.info())\n",
    "print(\"\\nLast few rows:\")\n",
    "print(df.tail())\n",
    "\n",
    "print(\"\\nClass distribution:\")\n",
    "print(df['lang'].value_counts())\n",
    "\n",
    "print(\"\\nSample texts:\")\n",
    "for lang in df['lang'].unique():\n",
    "    print(f\"\\n{lang.upper()} sample:\")\n",
    "    print(df[df['lang'] == lang].sample(3, random_state=42)['text'].to_list())"
   ]
  },
  {
   "cell_type": "markdown",
   "id": "621063a2",
   "metadata": {},
   "source": [
    "## ⚙️ Feature Engineering\n",
    "Representing text using:\n",
    "- **TF-IDF**"
   ]
  },
  {
   "cell_type": "code",
   "execution_count": null,
   "id": "ef506ea9",
   "metadata": {},
   "outputs": [],
   "source": [
    "from sklearn.model_selection import train_test_split\n",
    "from sklearn.feature_extraction.text import TfidfVectorizer"
   ]
  },
  {
   "cell_type": "code",
   "execution_count": 5,
   "id": "68110bc6",
   "metadata": {},
   "outputs": [],
   "source": [
    "\n",
    "X_train, X_test, y_train, y_test = train_test_split(\n",
    "    df['text'], df['lang'], test_size=0.2, random_state=42, stratify=df['lang']\n",
    ")"
   ]
  },
  {
   "cell_type": "code",
   "execution_count": 6,
   "id": "52ff0d16",
   "metadata": {},
   "outputs": [],
   "source": [
    "\n",
    "vectorizer = TfidfVectorizer(analyzer='char', ngram_range=(1,4))\n",
    "X_train_vec = vectorizer.fit_transform(X_train)\n",
    "X_test_vec = vectorizer.transform(X_test)\n"
   ]
  },
  {
   "cell_type": "markdown",
   "id": "a66c6535",
   "metadata": {},
   "source": [
    "## 🤖 Model Training\n",
    "Experimenting with classical ML models:\n",
    "- **Logistic Regression**\n",
    "- **Naive Bayes**\n",
    "- **Support Vector Machine (SVM)**"
   ]
  },
  {
   "cell_type": "code",
   "execution_count": 7,
   "id": "2a145a4a",
   "metadata": {},
   "outputs": [],
   "source": [
    "from sklearn.naive_bayes import MultinomialNB\n",
    "from sklearn.linear_model import LogisticRegression\n",
    "from sklearn.svm import LinearSVC"
   ]
  },
  {
   "cell_type": "code",
   "execution_count": 9,
   "id": "d5a643f4",
   "metadata": {},
   "outputs": [],
   "source": [
    "models = {\n",
    "    \"Naive Bayes\": MultinomialNB(),\n",
    "    \"Logistic Regression\": LogisticRegression(max_iter=200, solver=\"saga\"),\n",
    "    \"SVM\": LinearSVC()\n",
    "}\n"
   ]
  },
  {
   "cell_type": "markdown",
   "id": "c471d017",
   "metadata": {},
   "source": [
    "## 📈 Evaluation & Results\n",
    "Analysing performance using:\n",
    "- **Accuracy**\n",
    "- **Precision per language**\n",
    "- **Confusion Matrix**"
   ]
  },
  {
   "cell_type": "code",
   "execution_count": 10,
   "id": "8371e57b",
   "metadata": {},
   "outputs": [],
   "source": [
    "from sklearn.metrics import classification_report, confusion_matrix\n",
    "import matplotlib.pyplot as plt\n",
    "import seaborn as sns\n",
    "import pandas as pd"
   ]
  },
  {
   "cell_type": "code",
   "execution_count": 11,
   "id": "58e7c1f9",
   "metadata": {},
   "outputs": [
    {
     "name": "stdout",
     "output_type": "stream",
     "text": [
      "\n",
      "===== Naive Bayes =====\n",
      "              precision    recall  f1-score   support\n",
      "\n",
      "        akan       0.97      1.00      0.99       185\n",
      "     dagbani       1.00      0.93      0.97        45\n",
      "         ewe       1.00      1.00      1.00       108\n",
      "          ga       1.00      0.97      0.98        61\n",
      "\n",
      "    accuracy                           0.99       399\n",
      "   macro avg       0.99      0.98      0.98       399\n",
      "weighted avg       0.99      0.99      0.99       399\n",
      "\n",
      "Confusion Matrix:\n",
      " [[185   0   0   0]\n",
      " [  3  42   0   0]\n",
      " [  0   0 108   0]\n",
      " [  2   0   0  59]]\n",
      "\n",
      "\n",
      "\n",
      "===== Logistic Regression =====\n",
      "              precision    recall  f1-score   support\n",
      "\n",
      "        akan       0.96      1.00      0.98       185\n",
      "     dagbani       1.00      0.91      0.95        45\n",
      "         ewe       1.00      0.99      1.00       108\n",
      "          ga       1.00      0.95      0.97        61\n",
      "\n",
      "    accuracy                           0.98       399\n",
      "   macro avg       0.99      0.96      0.98       399\n",
      "weighted avg       0.98      0.98      0.98       399\n",
      "\n",
      "Confusion Matrix:\n",
      " [[185   0   0   0]\n",
      " [  4  41   0   0]\n",
      " [  1   0 107   0]\n",
      " [  3   0   0  58]]\n",
      "\n",
      "\n",
      "\n",
      "===== SVM =====\n",
      "              precision    recall  f1-score   support\n",
      "\n",
      "        akan       0.99      1.00      0.99       185\n",
      "     dagbani       1.00      0.96      0.98        45\n",
      "         ewe       1.00      1.00      1.00       108\n",
      "          ga       1.00      1.00      1.00        61\n",
      "\n",
      "    accuracy                           0.99       399\n",
      "   macro avg       1.00      0.99      0.99       399\n",
      "weighted avg       1.00      0.99      0.99       399\n",
      "\n",
      "Confusion Matrix:\n",
      " [[185   0   0   0]\n",
      " [  2  43   0   0]\n",
      " [  0   0 108   0]\n",
      " [  0   0   0  61]]\n",
      "\n",
      "\n"
     ]
    }
   ],
   "source": [
    "for name, model in models.items():\n",
    "    print(f\"\\n===== {name} =====\")\n",
    "    model.fit(X_train_vec, y_train)\n",
    "    y_pred = model.predict(X_test_vec)\n",
    "    print(classification_report(y_test, y_pred, digits=2))\n",
    "    print(\"Confusion Matrix:\\n\", confusion_matrix(y_test, y_pred))\n",
    "    print(\"\\n\")\n"
   ]
  },
  {
   "cell_type": "code",
   "execution_count": 12,
   "id": "a0e443d5",
   "metadata": {},
   "outputs": [],
   "source": [
    "# Generate classification report\n",
    "report = classification_report(\n",
    "    y_test, y_pred,\n",
    "    target_names=[\"akan\", \"dagbani\", \"ewe\", \"ga\"],\n",
    "    output_dict=True\n",
    ")\n",
    "\n",
    "# Extract metrics\n",
    "accuracy = report[\"accuracy\"]\n",
    "precisions = {lang: report[lang][\"precision\"] for lang in [\"akan\", \"dagbani\", \"ewe\", \"ga\"]}\n",
    "cm = confusion_matrix(y_test, y_pred)\n"
   ]
  },
  {
   "cell_type": "code",
   "execution_count": 13,
   "id": "22fe210e",
   "metadata": {},
   "outputs": [
    {
     "data": {
      "image/png": "[encoded data removed]",
      "text/plain": [
       "<Figure size 640x480 with 1 Axes>"
      ]
     },
     "metadata": {},
     "output_type": "display_data"
    },
    {
     "name": "stdout",
     "output_type": "stream",
     "text": [
      "\n",
      "\n"
     ]
    },
    {
     "data": {
      "image/png": "[encoded data removed]",
      "text/plain": [
       "<Figure size 600x400 with 1 Axes>"
      ]
     },
     "metadata": {},
     "output_type": "display_data"
    },
    {
     "name": "stdout",
     "output_type": "stream",
     "text": [
      "\n",
      "\n"
     ]
    },
    {
     "data": {
      "image/png": "[encoded data removed]",
      "text/plain": [
       "<Figure size 640x480 with 2 Axes>"
      ]
     },
     "metadata": {},
     "output_type": "display_data"
    }
   ],
   "source": [
    "# --- Accuracy ---\n",
    "plt.bar([\"Model\"], [accuracy], color=\"skyblue\")\n",
    "plt.ylim(0,1.05)\n",
    "plt.title(\"Accuracy\")\n",
    "plt.ylabel(\"Score\")\n",
    "plt.show()\n",
    "print(\"\\n\")\n",
    "\n",
    "# --- Precision per Language ---\n",
    "pd.Series(precisions).plot(kind=\"bar\", figsize=(6,4), color=\"lightgreen\")\n",
    "plt.title(\"Precision per Language\")\n",
    "plt.ylabel(\"Precision\")\n",
    "plt.ylim(0,1.05)\n",
    "plt.show()\n",
    "print(\"\\n\")\n",
    "\n",
    "# --- Confusion Matrix ---\n",
    "sns.heatmap(cm, annot=True, fmt=\"d\", cmap=\"Blues\", xticklabels=[\"akan\",\"dagbani\",\"ewe\",\"ga\"], yticklabels=[\"akan\",\"dagbani\",\"ewe\",\"ga\"])\n",
    "plt.title(\"Confusion Matrix\")\n",
    "plt.xlabel(\"Predicted\")\n",
    "plt.ylabel(\"True\")\n",
    "plt.show()"
   ]
  },
  {
   "cell_type": "markdown",
   "id": "352d3647",
   "metadata": {},
   "source": [
    "## 🔎 Observations & Insights"
   ]
  },
  {
   "cell_type": "markdown",
   "id": "e5937d6e",
   "metadata": {},
   "source": [
    "### Accuracy \n",
    "The overall accuracy is extremely high (~98–99%), meaning the models are very reliable at distinguishing between the four languages.\n",
    "\n",
    "### Precision per Language\n",
    "\n",
    "Akan and Ewe consistently achieve perfect or near-perfect precision. This suggests the model rarely confuses these languages with others.\n",
    "\n",
    "Dagbani shows slightly lower precision in Logistic Regression (~0.95). This means that when the model predicts \"Dagbani,\" it is wrong more often than with the other languages.\n",
    "\n",
    "Ga reaches very high precision in Naive Bayes and SVM, but Logistic Regression slips a bit. This may be because Ga had fewer training examples compared to Akan and Ewe, making it more sensitive to the model choice.\n",
    "\n",
    "\n",
    "### Confusion Matrix\n",
    "\n",
    "Most predictions fall perfectly along the diagonal, showing excellent separation between languages.\n",
    "\n",
    "The only consistent source of misclassification is Dagbani, which occasionally gets misclassified as Akan (e.g., 3-4 cases). This suggests some overlap in character/word n-grams.\n",
    "\n",
    "Ga also had a few errors under Logistic Regression, but SVM eliminated those entirely.\n",
    "\n",
    "Ewe is especially well-separated, zero misclassifications across all models."
   ]
  }
 ],
 "metadata": {
  "kernelspec": {
   "display_name": "lenv",
   "language": "python",
   "name": "python3"
  },
  "language_info": {
   "codemirror_mode": {
    "name": "ipython",
    "version": 3
   },
   "file_extension": ".py",
   "mimetype": "text/x-python",
   "name": "python",
   "nbconvert_exporter": "python",
   "pygments_lexer": "ipython3",
   "version": "3.13.3"
  }
 },
 "nbformat": 4,
 "nbformat_minor": 5
}
